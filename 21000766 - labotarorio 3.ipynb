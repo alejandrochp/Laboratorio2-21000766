{
 "cells": [
  {
   "cell_type": "markdown",
   "id": "4a77fe3f-a0bb-48c0-9266-0a65ace3a8ea",
   "metadata": {},
   "source": [
    "# LABORATORIO #2: ESTRUCTURA DE DATOS "
   ]
  },
  {
   "cell_type": "markdown",
   "id": "06820ee0-b1ac-4670-a300-091846852d6e",
   "metadata": {},
   "source": [
    "## Ejercicio 1:\n",
    "### Cree un procedimiento en Python dado un núumero entero en decimal despliegue su representación en número binario."
   ]
  },
  {
   "cell_type": "code",
   "execution_count": 35,
   "id": "d95fb8b8-6960-4f68-945d-ada262acf2ad",
   "metadata": {},
   "outputs": [
    {
     "name": "stdin",
     "output_type": "stream",
     "text": [
      "Ingrese el número a convertir: 79\n"
     ]
    },
    {
     "name": "stdout",
     "output_type": "stream",
     "text": [
      "1001111\n"
     ]
    }
   ],
   "source": [
    "\n",
    "try:\n",
    "    num = int(input(\"Ingrese el número a convertir:\"))\n",
    "\n",
    "    temp = []\n",
    "    resp = []\n",
    "\n",
    "    while num != 0: \n",
    "        residuo = num % 2\n",
    "        cociente = num // 2 \n",
    "        temp.insert(0, residuo)\n",
    "        num = cociente\n",
    "\n",
    "    respuesta = \"\"\n",
    "    for i in temp:\n",
    "        respuesta += str(i) + \"\"\n",
    "\n",
    "    int:int(respuesta) \n",
    "    print(respuesta)\n",
    "    \n",
    "except(ValueError):\n",
    "    print(\"Los valores ingresados no son válidos\")"
   ]
  },
  {
   "cell_type": "markdown",
   "id": "651ab6b8-7e2d-4a56-aad0-873ec1aa7238",
   "metadata": {},
   "source": [
    "## Ejercicio 2: \n",
    "### Desarrolle en Python una función que devuelva verdadero si un número entero que recibe como parámetro es primo y devuelva falso en el caso contrario."
   ]
  },
  {
   "cell_type": "code",
   "execution_count": 61,
   "id": "98e59fe1-5032-4633-a113-b77237bd4e2f",
   "metadata": {},
   "outputs": [
    {
     "name": "stdin",
     "output_type": "stream",
     "text": [
      "ingrese un número: 2\n"
     ]
    },
    {
     "name": "stdout",
     "output_type": "stream",
     "text": [
      "Verdadero\n"
     ]
    }
   ],
   "source": [
    "try:\n",
    "    num = int(input(\"ingrese un número:\"))\n",
    "\n",
    "    def primo(num):\n",
    "        for i in range(2, num): # se establece el ciclo desde 2 hasta el número total\n",
    "            if num % i == 0: # se valida si el residuo del número ingresado por el valor actual de i es 0\n",
    "                print(\"Falso\") #si hay residuo, por ende el número ingresado es divisible, por lo que deja de ser primo. \n",
    "                return False\n",
    "        print(\"Verdadero\")\n",
    "        return True\n",
    "    \n",
    "    primo(num)\n",
    "    \n",
    "except(ValueError): \n",
    "    print(\"error\")\n"
   ]
  },
  {
   "cell_type": "markdown",
   "id": "57b4164a-dfa7-494b-b57c-b22b575c566f",
   "metadata": {},
   "source": [
    "## Ejercicio 3: \n",
    "### Haga un programa en Python que dada una lista de n números, calcule la desviación estándar del conjunto de números, para este ejercicio no puede utilizar ninguna función que resuelva el problema."
   ]
  },
  {
   "cell_type": "code",
   "execution_count": 71,
   "id": "3dd8282d-774a-4590-9620-dbe20f8f7ae8",
   "metadata": {},
   "outputs": [
    {
     "name": "stdout",
     "output_type": "stream",
     "text": [
      "La desviación estándar de la lista es 1.707825127659933\n"
     ]
    }
   ],
   "source": [
    "import math\n",
    "\n",
    "lista = [1, 2, 3, 4, 5, 6] \n",
    "\n",
    "N = len(lista) # se define el tamaño de la lista\n",
    "media = sum(lista)/N # calculo de la media\n",
    "\n",
    "sumatoria = sum((i-media)**2 for i in lista)/N # se incluye un ciclo dentro de la sumatoria para obtener los valores la lista menos la media al cuadrado\n",
    "desviacion = math.sqrt(sumatoria) # se eleva al cuadrado\n",
    "\n",
    "print(f\"La desviación estándar de la lista es {desviacion}\")"
   ]
  },
  {
   "cell_type": "markdown",
   "id": "4399dc98-1cee-467d-8a0c-aa7a8d1585e1",
   "metadata": {},
   "source": [
    "## Ejercicios 4:\n",
    "### Desarrolle en Python una función que dado un arreglo de corra el algoritmo de ordenamiento burbuja y devuelva un nuevo arreglo ordenado. Posteriormente cree una función main para probar su función."
   ]
  },
  {
   "cell_type": "code",
   "execution_count": 87,
   "id": "857108e0-1ae4-45f8-bf63-87d122c21b3e",
   "metadata": {},
   "outputs": [
    {
     "name": "stdout",
     "output_type": "stream",
     "text": [
      "[1, 4, 8, 23, 25, 42, 54, 78, 90]\n"
     ]
    }
   ],
   "source": [
    "\n",
    "\n",
    "\n",
    "def main(nums):\n",
    "    \n",
    "    cambio = True \n",
    "    while cambio:\n",
    "        cambio = False\n",
    "        for i in range(len(nums) - 1): # se crea un ciclo para verificar los valores en cada posición de la lista\n",
    "            if nums[i] > nums [i + 1]: # se establece un if para poder mover de posición los valores dentro de la lista\n",
    "                nums[i], nums[i + 1] = nums [i + 1], nums[i]\n",
    "                \n",
    "                cambio = True\n",
    "                \n",
    "nums = [25, 54, 42, 90, 78, 1, 23, 8, 4]\n",
    "bubble(nums)\n",
    "print(nums)\n",
    "                \n",
    "\n",
    "           "
   ]
  },
  {
   "cell_type": "markdown",
   "id": "9fc08656-8605-44ad-80b5-22e828d2e2aa",
   "metadata": {},
   "source": [
    "## Ejercicio 5:\n",
    "### Escriba una función en Python que dada una tupla de elementos (numeros o letras) esta se convierta a un string. Tomar nota del siguiente ejemplo:\n",
    "\n",
    "### - Si la entrada fuera: (10, 20, 40, 5, 70)\n",
    "### - La salida debería ser: 102040570"
   ]
  },
  {
   "cell_type": "code",
   "execution_count": 96,
   "id": "7465414b-4ac9-4226-9204-c9f0f238ab02",
   "metadata": {},
   "outputs": [
    {
     "name": "stdout",
     "output_type": "stream",
     "text": [
      "10gato45perro29raton93\n"
     ]
    }
   ],
   "source": [
    "tupla = (10, \"gato\", 45, \"perro\", 29, \"raton\", 93)\n",
    "tupla2 = (10, 20, 40, 5, 70)\n",
    "\n",
    "cadena = \"\"\n",
    "for i in tupla:\n",
    "    cadena += str(i) + \"\"\n",
    "        \n",
    "print(cadena)\n"
   ]
  },
  {
   "cell_type": "markdown",
   "id": "b6502542-55e3-48f8-81dc-dbfc83e4157a",
   "metadata": {},
   "source": [
    "## Ejercicio 6:\n",
    "### Cree un programa en Python que dada una lista de tuplas, elimine las tuplas que están vacías.\n",
    "\n",
    "### Tomar nota del siguiente ejemplo:\n",
    "\n",
    "### - Si la lista fuera: [(), (), (’X’,), (’a’, ’b’), (’a’, ’b’, ’c’), (’d’)]\n",
    "###   El resultado debería ser: [(’X’), (’a’, ’b’), (’a’, ’b’, ’c’), ’d’]"
   ]
  },
  {
   "cell_type": "code",
   "execution_count": 102,
   "id": "c103d54b-7914-4368-b2e2-b1068650a549",
   "metadata": {},
   "outputs": [
    {
     "name": "stdout",
     "output_type": "stream",
     "text": [
      "La lista inicial contenia: [(), (), 'X', ('a', 'b'), ('a', 'b', 'c'), 'd']\n",
      "\n",
      "al eliminar las tuplas vacias, la lista final es:['X', ('a', 'b'), ('a', 'b', 'c'), 'd']\n"
     ]
    }
   ],
   "source": [
    "tupla = [(), (), (\"X\"), (\"a\", \"b\"), (\"a\", \"b\", \"c\"), (\"d\")]\n",
    "\n",
    "SinVacios = [i for i in tupla if i] # se crea un ciclo y un if para crear una nueva lista que contenga únicamente las tuplas en donde encuentre valor\n",
    "\n",
    "print(f\"La lista inicial contenia: {tupla}\")\n",
    "print()\n",
    "print(f\"al eliminar las tuplas vacias, la lista final es:{SinVacios}\")"
   ]
  },
  {
   "cell_type": "markdown",
   "id": "7c99fcf0-2f33-44a5-9b32-9eab18f28081",
   "metadata": {},
   "source": [
    " ## Ejercicio 7\n",
    " \n",
    " ### Cree una función en Python que dada una tupla de tuplas con numeros, produzca una tupla con el promedio de cada tupla individual. Tomar nota del siguiente ejemplo:\n",
    " \n",
    "### - Si la tupla de entrada fuera: ((10, 10, 10, 12), (30, 45, 56, 45), (81, 80, 39, 32))\n",
    "###   El resultado debería ser: (10.5, 44, 58)"
   ]
  },
  {
   "cell_type": "code",
   "execution_count": 127,
   "id": "f4fd2989-4801-4c4c-abe6-043bb03c00e0",
   "metadata": {},
   "outputs": [
    {
     "name": "stdout",
     "output_type": "stream",
     "text": [
      "(10.5, 44.0, 58.0)\n"
     ]
    }
   ],
   "source": [
    "tupla = ((10, 10, 10, 12), (30, 45, 56, 45), (81, 80, 39, 32))\n",
    "lista = []\n",
    "\n",
    "for i in tupla: # se crear un ciclo para que i tome valor de cada tupla dentro de la tupla principal\n",
    "    lista.append(sum(i)/len(i)) # Se obtiene el promedio de cada una y se agrega a una lista\n",
    "resultado = tuple(lista) # se convierte la lista a tupla y se muestra el resultado\n",
    "print(resultado)"
   ]
  },
  {
   "cell_type": "code",
   "execution_count": null,
   "id": "2d4bb81a-d40f-410b-bc61-5d2be5f8a4a8",
   "metadata": {},
   "outputs": [],
   "source": []
  }
 ],
 "metadata": {
  "kernelspec": {
   "display_name": "Python 3 (ipykernel)",
   "language": "python",
   "name": "python3"
  },
  "language_info": {
   "codemirror_mode": {
    "name": "ipython",
    "version": 3
   },
   "file_extension": ".py",
   "mimetype": "text/x-python",
   "name": "python",
   "nbconvert_exporter": "python",
   "pygments_lexer": "ipython3",
   "version": "3.9.7"
  }
 },
 "nbformat": 4,
 "nbformat_minor": 5
}
